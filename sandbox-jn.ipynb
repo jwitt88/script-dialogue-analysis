{
 "cells": [
  {
   "cell_type": "code",
   "execution_count": 13,
   "metadata": {},
   "outputs": [],
   "source": [
    "import requests\n",
    "import re\n",
    "from bs4 import BeautifulSoup"
   ]
  },
  {
   "cell_type": "code",
   "execution_count": null,
   "metadata": {},
   "outputs": [],
   "source": []
  },
  {
   "cell_type": "code",
   "execution_count": 14,
   "metadata": {},
   "outputs": [],
   "source": [
    "site = 'https://www.imsdb.com/scripts/John-Wick.html'"
   ]
  },
  {
   "cell_type": "code",
   "execution_count": 15,
   "metadata": {},
   "outputs": [],
   "source": [
    "r = requests.get(site)\n",
    "soup = BeautifulSoup(r.text, 'html.parser')"
   ]
  },
  {
   "cell_type": "code",
   "execution_count": 64,
   "metadata": {},
   "outputs": [],
   "source": [
    "full_script = soup.find_all(\"pre\")\n",
    "full_script = str(full_script).split('\\n')"
   ]
  },
  {
   "cell_type": "code",
   "execution_count": 92,
   "metadata": {},
   "outputs": [],
   "source": [
    "lines_to_send = [site, ]"
   ]
  },
  {
   "cell_type": "code",
   "execution_count": null,
   "metadata": {},
   "outputs": [],
   "source": []
  },
  {
   "cell_type": "code",
   "execution_count": 65,
   "metadata": {},
   "outputs": [],
   "source": [
    "for i, text in enumerate(full_script):\n",
    "    full_script[i] = re.sub(' +', ' ', text)"
   ]
  },
  {
   "cell_type": "code",
   "execution_count": 93,
   "metadata": {},
   "outputs": [],
   "source": [
    "for line, text in enumerate(full_script):\n",
    "    if '<b> JOHN' in text:\n",
    "        \n",
    "        #Keanu's dialogue is one line below <b> JOHN, so we set the target to that\n",
    "        target = line + 1\n",
    "        \n",
    "        #while we haven't yet hit a blank empty line...\n",
    "        while full_script[target] != ' \\r':\n",
    "            \n",
    "            #skip lines containing directions (WHISPERS)\n",
    "            if '(' in full_script[target]:\n",
    "                target += 1\n",
    "            \n",
    "            #break on totally blank lines\n",
    "            if full_script[target] == '</b> \\r' or full_script[target] == '</b>\\r':\n",
    "                break\n",
    "            \n",
    "            #break on more totally blank lines\n",
    "            if full_script[target] == '\\r':\n",
    "                break\n",
    "                 \n",
    "            #if the line contains a <b>, something screwy is going on\n",
    "            if '<b>' in full_script[target]:\n",
    "                target += 1\n",
    "            \n",
    "            #otherwise, that's probably the lines we want\n",
    "            else:\n",
    "                lines_to_send.append(str(full_script[target].replace('</b>', '')).replace('\\r', ''))\n",
    "                target += 1\n",
    "        "
   ]
  },
  {
   "cell_type": "code",
   "execution_count": null,
   "metadata": {},
   "outputs": [],
   "source": []
  },
  {
   "cell_type": "code",
   "execution_count": null,
   "metadata": {},
   "outputs": [],
   "source": []
  }
 ],
 "metadata": {
  "kernelspec": {
   "display_name": "Python 3",
   "language": "python",
   "name": "python3"
  },
  "language_info": {
   "codemirror_mode": {
    "name": "ipython",
    "version": 3
   },
   "file_extension": ".py",
   "mimetype": "text/x-python",
   "name": "python",
   "nbconvert_exporter": "python",
   "pygments_lexer": "ipython3",
   "version": "3.8.0"
  }
 },
 "nbformat": 4,
 "nbformat_minor": 4
}
